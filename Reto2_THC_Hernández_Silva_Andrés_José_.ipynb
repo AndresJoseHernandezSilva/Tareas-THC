{
  "nbformat": 4,
  "nbformat_minor": 0,
  "metadata": {
    "colab": {
      "provenance": [],
      "authorship_tag": "ABX9TyOkVMLDRR9i8on+u9gB03NN",
      "include_colab_link": true
    },
    "kernelspec": {
      "name": "python3",
      "display_name": "Python 3"
    },
    "language_info": {
      "name": "python"
    }
  },
  "cells": [
    {
      "cell_type": "markdown",
      "metadata": {
        "id": "view-in-github",
        "colab_type": "text"
      },
      "source": [
        "<a href=\"https://colab.research.google.com/github/AndresJoseHernandezSilva/Tareas-THC/blob/main/Reto2_THC_Hern%C3%A1ndez_Silva_Andr%C3%A9s_Jos%C3%A9_.ipynb\" target=\"_parent\"><img src=\"https://colab.research.google.com/assets/colab-badge.svg\" alt=\"Open In Colab\"/></a>"
      ]
    },
    {
      "cell_type": "code",
      "execution_count": 1,
      "metadata": {
        "colab": {
          "base_uri": "https://localhost:8080/"
        },
        "id": "ll12_LgREeP0",
        "outputId": "27d9d969-e325-43e9-cc2e-7b292b1c4653"
      },
      "outputs": [
        {
          "output_type": "stream",
          "name": "stdout",
          "text": [
            "              País            Ciudad  hora  minutos\n",
            "0           México  Ciudad de México    13       19\n",
            "1            Japón             Tokio     4       19\n",
            "2            China             Pekin     3       19\n",
            "3       Tayikistán           Dusambé    23       19\n",
            "4        Australia             Perth     3       19\n",
            "5            Nepal          Katmándu    23       19\n",
            "6         Lituania             Vilna    20       19\n",
            "7     Sierra Leona          Freetown    19       19\n",
            "8           Brasil    Río de janeiro    16       19\n",
            "9         Honduras       Tegucigalpa    13       19\n",
            "10         Jamaica          Kingston    14       19\n",
            "11  Estados Unidos       Los ángeles    12       19\n"
          ]
        }
      ],
      "source": [
        "import pandas as pd\n",
        "\n",
        "H_mex= 13\n",
        "if H_mex>24 or H_mex<0:\n",
        "  print(\"No es una hora válida\")\n",
        "\"\"\"Primero se introduce la hora en CDMX en formato de 24 horas, en la variable\n",
        "H_mex; se restringe que esta este comprendida entre, 0 y 24\"\"\"\n",
        "Min_mex= 19\n",
        "if Min_mex>59 or Min_mex<0:\n",
        "  print(\"Los minutos no son válidos\")\n",
        "\"\"\"Luego de introducen los minutos de la hora en CDMX en la variable Min_mex;\n",
        "estod se restringen de 0 a 59 \"\"\"\n",
        "Horas= { \"CDMX\":H_mex,\n",
        "    \"Tk\":H_mex+15,\n",
        "  \"Pek\":H_mex+14,\n",
        "  \"Dus\":H_mex+10,\n",
        "  \"Per\":H_mex+14,\n",
        "  \"Kat\":H_mex+10,\n",
        "  \"Vil\":H_mex+7 ,\n",
        "  \"Fre\":H_mex+6 ,\n",
        "  \"Rj\":H_mex+3 ,\n",
        "  \"Teg\":H_mex+0 ,\n",
        "  \"Kin\":H_mex+1 ,\n",
        "  \"LA\":H_mex-1}\n",
        "\"\"\"Se creo un diccionario que diera la hora en las respectivas ciudades, en base\n",
        "a H_mex, donde las llaves son abreviaciones de las ciudades, y los valores es la hora\n",
        "en  dicha ciudad\"\"\"\n",
        "for ciudad in Horas.keys():\n",
        "  if Horas[ciudad]>=24:\n",
        "     Horas[ciudad]=Horas[ciudad]-24\n",
        "\"\"\"Se indico que para cada ciudad en el diccionario si la ciudad tenia un valor mayor\n",
        "a 24 horas, hora en esa ciudad se redefinia como la hora menos 24, esto para evitar hubiera\n",
        "horarios de más de 24 horas\"\"\"\n",
        "lista_hor=list(Horas.values())\n",
        "\"\"\"se creo la lista horas para en base a los values del diccionario Horas\"\"\"\n",
        "lista_min=[Min_mex]*12\n",
        "\"\"\"Se creo la lista de minutos, que son los minutos en CDMX, pero repetidos 12 veces\"\"\"\n",
        "Dic_horas={\"País\":[\"México\",\"Japón\",\"China\", \"Tayikistán\", \"Australia\", \"Nepal\", \"Lituania\",\n",
        "                       \"Sierra Leona\", \"Brasil\", \"Honduras\",  \"Jamaica\", \"Estados Unidos\"],\n",
        "    \"Ciudad\":[\"Ciudad de México\",\"Tokio\",\"Pekin\", \"Dusambé\", \"Perth\", \"Katmándu\", \"Vilna\",\n",
        "                       \"Freetown\", \"Río de janeiro\", \"Tegucigalpa\",  \"Kingston\", \"Los ángeles\"],\n",
        "\n",
        "\"hora\":lista_hor, \"minutos\":lista_min}\n",
        "\"\"\"Se creó el diccionario Dic_horas, para ordenar la información  de  varias lista,\n",
        "Donde: La primera llave indica el país, La segunda llave las Ciudades, La tercera llave las horas\n",
        "y La cuarta Llave los minutos\"\"\"\n",
        "\n",
        "dataframe=pd.DataFrame(Dic_horas)\n",
        "\"\"\"Gracias a la libreria pandas se le dio formato de dataframe,\n",
        "para que al momento de imprimir Dic_horas se viera legible\"\"\"\n",
        "print(dataframe)"
      ]
    },
    {
      "cell_type": "code",
      "source": [
        "import random as rd\n",
        "piedra=1\n",
        "papel=2\n",
        "tijeras=3\n",
        "\n",
        "\n",
        "Maquina=rd.randrange(1,4,1)\n",
        "def jugar (humano):\n",
        "  if humano>3 or humano<1:\n",
        "   print(\"No es válida la elección\")\n",
        "  if Maquina == piedra and humano== papel:\n",
        "   print(\"Victoria, sobre piedra\")\n",
        "  elif Maquina == papel and humano== piedra:\n",
        "    print(\"Derrota, gana papel\")\n",
        "  elif Maquina == tijeras and humano== papel:\n",
        "    print(\"Derrota, gana tijeras\")\n",
        "  elif Maquina == papel and humano== tijeras:\n",
        "    print(\"Victoria, sobre papel\")\n",
        "  elif Maquina == piedra and humano== tijeras:\n",
        "    print(\"Derrota, gana piedra\")\n",
        "  elif Maquina == tijeras and humano== piedra:\n",
        "    print(\"Victoria, sobre tijeras\")\n",
        "  elif Maquina==humano:\n",
        "    print(\"Empate\")\n",
        "\n",
        "jugar(int(input(\"Ponga 1 para elegir piedra, 2 para elegir papel, 3 para elegir tijeras \")))"
      ],
      "metadata": {
        "colab": {
          "base_uri": "https://localhost:8080/"
        },
        "id": "xC7sozwTBfP8",
        "outputId": "19e87376-698c-42d0-ddea-849e84dac341"
      },
      "execution_count": 10,
      "outputs": [
        {
          "output_type": "stream",
          "name": "stdout",
          "text": [
            "Ponga 1 para elegir piedra, 2 para elegir papel, 3 para elegir tijeras 2\n",
            "Victoria, sobre piedra\n"
          ]
        }
      ]
    }
  ]
}