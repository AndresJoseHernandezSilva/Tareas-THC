{
  "nbformat": 4,
  "nbformat_minor": 0,
  "metadata": {
    "colab": {
      "provenance": [],
      "authorship_tag": "ABX9TyOdfMbIHQvorSxWGJ3UHEnS",
      "include_colab_link": true
    },
    "kernelspec": {
      "name": "python3",
      "display_name": "Python 3"
    },
    "language_info": {
      "name": "python"
    }
  },
  "cells": [
    {
      "cell_type": "markdown",
      "metadata": {
        "id": "view-in-github",
        "colab_type": "text"
      },
      "source": [
        "<a href=\"https://colab.research.google.com/github/AndresJoseHernandezSilva/Tareas-THC/blob/main/Ciclos%2C_10_octubre.ipynb\" target=\"_parent\"><img src=\"https://colab.research.google.com/assets/colab-badge.svg\" alt=\"Open In Colab\"/></a>"
      ]
    },
    {
      "cell_type": "code",
      "execution_count": null,
      "metadata": {
        "colab": {
          "base_uri": "https://localhost:8080/"
        },
        "id": "MvMX4PQ8k4-w",
        "outputId": "a403a91d-40cd-4006-f239-1b3dcc6b5a35"
      },
      "outputs": [
        {
          "output_type": "stream",
          "name": "stdout",
          "text": [
            "0\n",
            "1\n",
            "2\n",
            "3\n",
            "4\n"
          ]
        }
      ],
      "source": [
        "for contador in range(5): #rango de números\n",
        "  print(contador)"
      ]
    },
    {
      "cell_type": "code",
      "source": [
        "dias=[\"lunes\",\"martes\",\"miércoles\",\"jueves\",\"viernes\"]\n",
        "\n",
        "for día in dias:\n",
        "  print(día)\n",
        "  print(\"hola\") #los intercala"
      ],
      "metadata": {
        "colab": {
          "base_uri": "https://localhost:8080/"
        },
        "id": "5AhLqqVLmRTi",
        "outputId": "a99509df-1b0d-4b92-e5e3-f9b07155a016"
      },
      "execution_count": null,
      "outputs": [
        {
          "output_type": "stream",
          "name": "stdout",
          "text": [
            "lunes\n",
            "hola\n",
            "martes\n",
            "hola\n",
            "miércoles\n",
            "hola\n",
            "jueves\n",
            "hola\n",
            "viernes\n",
            "hola\n"
          ]
        }
      ]
    },
    {
      "cell_type": "code",
      "source": [
        "for día in dias:\n",
        "  print(\"El valor de día es \"+ día)\n",
        "  if día == \"lunes\":\n",
        "    print(\"No me gustan los \"+ día)\n",
        "  elif día == \"viernes\":\n",
        "    print(\"Es \"+ día+ \" vamonos de peda\")\n"
      ],
      "metadata": {
        "colab": {
          "base_uri": "https://localhost:8080/"
        },
        "id": "pWuFhyiqnQH-",
        "outputId": "63da128f-9af9-4245-829b-395e8b1b271b"
      },
      "execution_count": null,
      "outputs": [
        {
          "output_type": "stream",
          "name": "stdout",
          "text": [
            "El valor de día es lunes\n",
            "No me gustan los lunes\n",
            "El valor de día es martes\n",
            "El valor de día es miércoles\n",
            "El valor de día es jueves\n",
            "El valor de día es viernes\n",
            "Es viernes vamonos de peda\n"
          ]
        }
      ]
    },
    {
      "cell_type": "code",
      "source": [
        "for día in dias:\n",
        "\n",
        "  if día == \"miércoles\": #se ejecuta esto primero\n",
        "    print(\"No me gustan los \"+ día)\n",
        "    break #termina el cilclo\n",
        "  print(\"El valor de día es \"+ día)\n",
        "\n"
      ],
      "metadata": {
        "colab": {
          "base_uri": "https://localhost:8080/"
        },
        "id": "zgPHxnx0nK-d",
        "outputId": "ab6595d3-27bf-49f4-c54a-10c401d375ca"
      },
      "execution_count": null,
      "outputs": [
        {
          "output_type": "stream",
          "name": "stdout",
          "text": [
            "El valor de día es lunes\n",
            "El valor de día es martes\n",
            "No me gustan los miércoles\n"
          ]
        }
      ]
    },
    {
      "cell_type": "code",
      "source": [
        "for día in dias:\n",
        "\n",
        "  if día == \"miércoles\":\n",
        "\n",
        "    continue #ignora los iguiente para día == miércoles\n",
        "    print(\"No me gustan los\"+ día)\n",
        "  print(\"El valor de día es \"+ día)\n"
      ],
      "metadata": {
        "colab": {
          "base_uri": "https://localhost:8080/"
        },
        "id": "wFQ_Qc3Nroww",
        "outputId": "b62c2d3a-33ef-43cb-b1f8-83732147634d"
      },
      "execution_count": null,
      "outputs": [
        {
          "output_type": "stream",
          "name": "stdout",
          "text": [
            "El valor de día es lunes\n",
            "El valor de día es martes\n",
            "El valor de día es jueves\n",
            "El valor de día es viernes\n"
          ]
        }
      ]
    },
    {
      "cell_type": "code",
      "source": [
        "for día in dias:\n",
        "  if día == \"miércoles\": #if 1\n",
        "   if día == \"miércoles\": #if 2\n",
        "    if día == \"miércoles\": #if 3\n",
        "     continue #ignora los iguiente para día == miércoles\n",
        "    print(\"es miércoles\")\n",
        "   print(\"No me gustan los\"+ día)\n",
        "  print(\"El valor de día es \" + día)\n",
        "\n"
      ],
      "metadata": {
        "colab": {
          "base_uri": "https://localhost:8080/"
        },
        "id": "nRY5qhoGtDXn",
        "outputId": "6c6bae59-726f-4051-97ef-15e20b0a2ef7"
      },
      "execution_count": null,
      "outputs": [
        {
          "output_type": "stream",
          "name": "stdout",
          "text": [
            "El valor de día es lunes\n",
            "El valor de día es martes\n",
            "El valor de día es jueves\n",
            "El valor de día es viernes\n"
          ]
        }
      ]
    },
    {
      "cell_type": "code",
      "source": [
        "for i in range(5, -1,-1): #(rango, orden, hasta donde)\n",
        "  print(i)"
      ],
      "metadata": {
        "colab": {
          "base_uri": "https://localhost:8080/"
        },
        "id": "iseLv-cLwnyN",
        "outputId": "80215d62-f248-4751-9c85-a26cc7a54d5f"
      },
      "execution_count": null,
      "outputs": [
        {
          "output_type": "stream",
          "name": "stdout",
          "text": [
            "5\n",
            "4\n",
            "3\n",
            "2\n",
            "1\n",
            "0\n"
          ]
        }
      ]
    },
    {
      "cell_type": "code",
      "source": [
        "numero=int(input(\"escriba un número natural \")) #el usuario lo pone\n",
        "print(\"tu número es \"+ str(numero))\n",
        "# calcular el factorial\n",
        "\n",
        "if numero == 0:\n",
        "  fact = 1\n",
        "  print(\"El factorial de \"+ str(numero)+ \" es \" + str(fact) )\n",
        "else:\n",
        "  fact = 1 # inicializar variables\n",
        "  for i in range(1, numero + 1):\n",
        "    fact = i* fact #es como \"recursivo\" se regresa a fact\n",
        "  print(fact) #hay que alinearlo con el bloque for\n"
      ],
      "metadata": {
        "colab": {
          "base_uri": "https://localhost:8080/"
        },
        "id": "ZvL1OaUqxWGP",
        "outputId": "1c75c3da-5f76-44d8-9d6f-646795067bda"
      },
      "execution_count": null,
      "outputs": [
        {
          "output_type": "stream",
          "name": "stdout",
          "text": [
            "escriba un número natural 50\n",
            "tu número es 50\n",
            "30414093201713378043612608166064768844377641568960512000000000000\n"
          ]
        }
      ]
    },
    {
      "cell_type": "code",
      "source": [
        "contador=0\n",
        "while contador < 5: #mientras algo pase, contador <5 es como un break\n",
        "  print(\"El contador es \"+ str(contador))\n",
        "  contador +=1\n",
        "#contador = contador+1"
      ],
      "metadata": {
        "colab": {
          "base_uri": "https://localhost:8080/"
        },
        "id": "LhjxCnTx4hDw",
        "outputId": "76f20227-42ed-44d5-a98c-9360d0969602"
      },
      "execution_count": null,
      "outputs": [
        {
          "output_type": "stream",
          "name": "stdout",
          "text": [
            "El contador es 0\n",
            "El contador es 1\n",
            "El contador es 2\n",
            "El contador es 3\n",
            "El contador es 4\n"
          ]
        }
      ]
    },
    {
      "cell_type": "code",
      "source": [
        "contador=0\n",
        "suma=0\n",
        "while contador < 50:\n",
        "\n",
        "   contador = contador + 1\n",
        "   suma = suma + contador\n",
        "\n",
        "else:\n",
        " print(suma, 50*51/2)\n",
        "\n"
      ],
      "metadata": {
        "colab": {
          "base_uri": "https://localhost:8080/"
        },
        "id": "e-FCb59D5Mvz",
        "outputId": "1023f80f-d821-4bd4-d9ca-06e35bddd9c1"
      },
      "execution_count": null,
      "outputs": [
        {
          "output_type": "stream",
          "name": "stdout",
          "text": [
            "1275 1275.0\n"
          ]
        }
      ]
    }
  ]
}