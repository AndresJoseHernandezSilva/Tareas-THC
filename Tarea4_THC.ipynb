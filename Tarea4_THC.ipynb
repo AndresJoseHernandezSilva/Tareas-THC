{
  "nbformat": 4,
  "nbformat_minor": 0,
  "metadata": {
    "colab": {
      "provenance": [],
      "include_colab_link": true
    },
    "kernelspec": {
      "name": "python3",
      "display_name": "Python 3"
    },
    "language_info": {
      "name": "python"
    }
  },
  "cells": [
    {
      "cell_type": "markdown",
      "metadata": {
        "id": "view-in-github",
        "colab_type": "text"
      },
      "source": [
        "<a href=\"https://colab.research.google.com/github/AndresJoseHernandezSilva/Tareas-THC/blob/main/Tarea4_THC.ipynb\" target=\"_parent\"><img src=\"https://colab.research.google.com/assets/colab-badge.svg\" alt=\"Open In Colab\"/></a>"
      ]
    },
    {
      "cell_type": "markdown",
      "source": [
        "<font color=\"Red\" face=\"Comic Sans MS,arial\">\n",
        "  <h1 align=\"center\"><i>Tarea 4 de Python </i></h1>\n",
        "  </font>\n",
        "  \n",
        "> Elaborado por:\n",
        "\n",
        "> Miguel Ángel Carrillo Lucía. miguelcarrillo15@ciencias.unam.mx\n",
        "\n",
        "> Jesús Iván Coss Calderón. mat_ing_coss@ciencias.unam.mx"
      ],
      "metadata": {
        "id": "Acw5GbRohNTA"
      }
    },
    {
      "cell_type": "markdown",
      "source": [
        "**Objetivo general**\n",
        "\n",
        "* Demostrar los conocimientos adquiridos de bucles, listas y estructuras de control.\n",
        "\n",
        "**Objetivos particulares**\n",
        "\n",
        "* Aprender a resolver problemas prácticos usando python"
      ],
      "metadata": {
        "id": "-4IW6Nx2jBHt"
      }
    },
    {
      "cell_type": "markdown",
      "source": [
        "#**Ejercicio 1**:\n",
        "Diseña un programa que convierta dólares americanos a pesos mexicanos, euros, libras\n",
        "esterlinas, yuanes y rublos utilizando una tasa de cambio fija. Muestre la tasa de cambio e imprima los cinco resultados.\n"
      ],
      "metadata": {
        "id": "QZ7aCHF0TYtT"
      }
    },
    {
      "cell_type": "code",
      "source": [
        "dolares = float(input(\"¿Cuántos dólares tiene?\"))\n",
        "\n",
        "pesos= round(dolares*19.87,3)\n",
        "print(\"Sus \", dolares, \" dólares equivalen a\", pesos, \" pesos mexicanos\")\n",
        "euros= round(dolares*0.92,3)\n",
        "print(\"Sus \", dolares, \" dólares equivalen a\", euros, \" euros\")\n",
        "\n",
        "libras= round(dolares*0.77,3)\n",
        "print(\"Sus \", dolares, \"dólares equivalen a\", libras, \" libras esterlinas\")\n",
        "\n",
        "rublos= round(dolares*95.94,3)\n",
        "print(\"Sus \", dolares, \" dólares equivalen a\", rublos, \" rublos\")\n",
        "#tasas de cambio consultadas el 20 de octubre\n",
        "\n",
        "yuanes= round(dolares*7.12,3)\n",
        "print(\"Sus \", dolares, \" dólares equivalen a\", yuanes, \" yuanes\")\n"
      ],
      "metadata": {
        "id": "TBR-3raL8Epc",
        "colab": {
          "base_uri": "https://localhost:8080/"
        },
        "outputId": "0863a2e5-66fb-4c63-fbc1-c4619a313ce6"
      },
      "execution_count": null,
      "outputs": [
        {
          "output_type": "stream",
          "name": "stdout",
          "text": [
            "¿Cuántos dólares tiene?56\n",
            "Sus  56.0  dólares equivalen a 1112.72  pesos mexicanos\n",
            "Sus  56.0  dólares equivalen a 51.52  euros\n",
            "Sus  56.0 dólares equivalen a 43.12  libras esterlinas\n",
            "Sus  56.0  dólares equivalen a 5372.64  rublos\n",
            "Sus  56.0  dólares equivalen a 398.72  yuanes\n"
          ]
        }
      ]
    },
    {
      "cell_type": "markdown",
      "source": [
        "#**Ejercicio 2**:\n",
        "Escribe un programa que pida al usuario su edad y clasifique la entrada en 'niño',\n",
        " 'adolescente', 'adulto' o 'adulto mayor'."
      ],
      "metadata": {
        "id": "G-aCihICT7hi"
      }
    },
    {
      "cell_type": "code",
      "source": [
        "def grupo_etario(edad):\n",
        "  if 11>edad>0:\n",
        "    print(\"La persona esta en la niñez\")\n",
        "  elif 19>edad>10:\n",
        "    print(\"La persona esta en la adolescencia\")\n",
        "  elif 60>edad>18:\n",
        "    print(\"La persona es un adulto\")\n",
        "  else:\n",
        "    print(\"La persona es un adulto mayor\")\n",
        "\n",
        "grupo_etario(int(input(\"¿Qué edad tiene la persona?\")))"
      ],
      "metadata": {
        "id": "LeEsrq4p8FOs",
        "colab": {
          "base_uri": "https://localhost:8080/"
        },
        "outputId": "3762bbb4-e06e-4b9e-95f2-65f4f218cfed"
      },
      "execution_count": null,
      "outputs": [
        {
          "output_type": "stream",
          "name": "stdout",
          "text": [
            "¿Qué edad tiene la persona?89\n",
            "La persona es un adulto mayor\n"
          ]
        }
      ]
    },
    {
      "cell_type": "markdown",
      "source": [
        "#**Ejercicio 3**:\n",
        "Desarrolla un programa que calcule el precio final de un producto después de aplicar un descuento.\n",
        " El usuario debe ingresar el precio original y el porcentaje de descuento. Imprima el precio final."
      ],
      "metadata": {
        "id": "oM_h9APNTIW9"
      }
    },
    {
      "cell_type": "code",
      "source": [
        "\n",
        "\n",
        "def precio_final(precio, descuento):\n",
        "  precio_fin= precio-(precio*descuento)\n",
        "  print(\"El precio final es de $\",precio_fin)\n",
        "\n",
        "precio_final(float(input(\"introduzca el precio del producto \")),\n",
        "             float(input(\"introduzca el descuento en decimales \")))\n"
      ],
      "metadata": {
        "id": "ay0KWLXf8F5k",
        "colab": {
          "base_uri": "https://localhost:8080/"
        },
        "outputId": "b3c8323e-80dc-41cf-a301-cf9a025756e3"
      },
      "execution_count": null,
      "outputs": [
        {
          "output_type": "stream",
          "name": "stdout",
          "text": [
            "introduzca el precio del producto600\n",
            "introduzca el descuento en decimales.5\n",
            "El precio final es de $ 300.0\n"
          ]
        }
      ]
    },
    {
      "cell_type": "markdown",
      "source": [
        "#**Ejercicio 4**:\n",
        "Crea un script que determine cuál de tres números introducidos por el usuario es el mayor,\n",
        "usando sentencias IF anidadas o múltiples ELIF."
      ],
      "metadata": {
        "id": "pXTw_US7UIhy"
      }
    },
    {
      "cell_type": "code",
      "source": [
        "\n",
        "Números=[10,9,8]\n",
        "\n",
        "if Números[0]>=Números[1]:\n",
        "  if Números[0]>=Números[2]:\n",
        "    print(Números[0],\" es el máximo\")\n",
        "elif Números[1]>=Números[0]:\n",
        "  if Números[1]>=Números[2]:\n",
        "      print(Números[1],\" es el máximo\")\n",
        "  elif Números[2]>=Números[1]:\n",
        "     print(Números[2],\" es el máximo\")"
      ],
      "metadata": {
        "id": "oSJXRXBb8Gck",
        "colab": {
          "base_uri": "https://localhost:8080/"
        },
        "outputId": "056357cf-26d2-4f39-80e0-2ee2087e0034"
      },
      "execution_count": null,
      "outputs": [
        {
          "output_type": "stream",
          "name": "stdout",
          "text": [
            "10  es el máximo\n"
          ]
        }
      ]
    },
    {
      "cell_type": "markdown",
      "source": [
        "#**Ejercicio 5**:\n",
        "Programe una función que resuelva ecuaciones de segundo grado utilizando la fórmula general.\n",
        "El usuario debe ingresar los valores de a, b y c. Genere valores por default por si el usuario no ingresa\n",
        "un número entero o flotante. Además, calcule el valor del discriminante\n",
        "(b^2 - 4ac) y determine si tiene soluciones reales, soluciones complejas. Imprima el resultado."
      ],
      "metadata": {
        "id": "LJgQNYz1Tmaj"
      }
    },
    {
      "cell_type": "code",
      "source": [
        "import numpy as np\n",
        "a=float(1)\n",
        "b=float(2)\n",
        "c=float(1)\n",
        "dis=(b**2-(4*a*c))\n",
        "print(\"El discriminante es \",dis)\n",
        "\n",
        "if dis<0:\n",
        "  print(\"La ecuación tiene raíces en el plano complejo\")\n",
        "def soluciones(a,b):\n",
        "  solución_1=(-b+ np.sqrt(dis))/(2*a)\n",
        "  solución_2=(-b- np.sqrt(dis))/(2*a)\n",
        "  return(print(\"las soluciones estan son números reales \"\n",
        "  \"x_1= \",solución_1, \"x_2= \",solución_2))\n",
        "soluciones(a,b)"
      ],
      "metadata": {
        "id": "L1CQPnlC8G9c",
        "colab": {
          "base_uri": "https://localhost:8080/"
        },
        "outputId": "854953fa-18ed-43f7-8689-555f309d4c20"
      },
      "execution_count": null,
      "outputs": [
        {
          "output_type": "stream",
          "name": "stdout",
          "text": [
            "El discriminante es  0\n",
            "las soluciones estan son números reales x_1=  -1.0 x_2=  -1.0\n"
          ]
        }
      ]
    },
    {
      "cell_type": "markdown",
      "source": [
        "#**Ejercicio 6**\n",
        "\n",
        " Escriba una función que reciba una lista de números y devuelva dos listas: una con los números positivos y otra con los negativos."
      ],
      "metadata": {
        "id": "1VC6sG1wix_2"
      }
    },
    {
      "cell_type": "code",
      "source": [
        "\n",
        "lista=[-1,7,9,-2,3]\n",
        "positivos=[]\n",
        "negativos=[]\n",
        "def separar(lista):\n",
        "  for numero in lista:\n",
        "    if numero<0:\n",
        "      negativos.append(numero)\n",
        "    if numero>0:\n",
        "      positivos.append(numero)\n",
        "  return(print(positivos, negativos))\n",
        "separar(lista)"
      ],
      "metadata": {
        "id": "j-nKpLKG8HdU",
        "colab": {
          "base_uri": "https://localhost:8080/"
        },
        "outputId": "91e3b702-5487-41e3-c8e6-59542886067e"
      },
      "execution_count": null,
      "outputs": [
        {
          "output_type": "stream",
          "name": "stdout",
          "text": [
            "[7, 9, 3] [-1, -2]\n"
          ]
        }
      ]
    },
    {
      "cell_type": "markdown",
      "source": [
        "#**Ejercicio 7**\n",
        "\n",
        "Escriba una función que reciba una lista de datos (la de abajo) y devuelva listas con los datos filtrados. Este programa debe separar los datos en **int**, **str**, **bool**, **float**. **Hint**: use la función **append** para insertar datos en las listas."
      ],
      "metadata": {
        "id": "B3DOqZgpjxMf"
      }
    },
    {
      "cell_type": "code",
      "source": [
        "Datos= [5, 2.4, \"hola\", 7, 10, 3.14,True,False, \"Hi\", 0, 0.265]# lista a usar"
      ],
      "metadata": {
        "id": "5zQMRLNYis12"
      },
      "execution_count": null,
      "outputs": []
    },
    {
      "cell_type": "code",
      "source": [
        "Datos= [5, 2.4, \"hola\", 7, 10, 3.14,True,False, \"Hi\", 0, 0.265]# lista a usar\n",
        "\n",
        "lista_str=[]\n",
        "lista_int=[]\n",
        "lista_bool=[]\n",
        "lista_float=[]\n",
        "def clasificacion(lista):\n",
        "  for dato in lista:\n",
        "    if type(dato)== str:\n",
        "      lista_str.append(dato)\n",
        "    elif type(dato) == int:\n",
        "      lista_int.append(dato)\n",
        "    elif type(dato) == bool:\n",
        "      lista_bool.append(dato)\n",
        "    else:\n",
        "      lista_float.append(dato)\n",
        "  return(print(lista_str,lista_int, lista_bool, lista_float))\n",
        "clasificacion(Datos)"
      ],
      "metadata": {
        "id": "0HH0Debs8Joc",
        "colab": {
          "base_uri": "https://localhost:8080/"
        },
        "outputId": "16e4cd08-7c76-47f0-ab80-499b8a8862c1"
      },
      "execution_count": null,
      "outputs": [
        {
          "output_type": "stream",
          "name": "stdout",
          "text": [
            "['hola', 'Hi'] [5, 7, 10, 0] [True, False] [2.4, 3.14, 0.265]\n"
          ]
        }
      ]
    },
    {
      "cell_type": "markdown",
      "source": [
        "#**Ejercicio 8**:\n",
        "\n",
        "Imprimir pirámide de asteriscos\n",
        "Descripción: Crea una función que imprima una pirámide de asteriscos usando bucles anidados, donde el número de niveles de la pirámide sea un valor dado."
      ],
      "metadata": {
        "id": "Q7XYGpfGkuD4"
      }
    },
    {
      "cell_type": "code",
      "source": [
        "\n",
        "\n",
        "def piramide_asteriscos(niveles):\n",
        "  asterisco=\"\"\n",
        "  for i in range(niveles):\n",
        "    asterisco= asterisco+\" * \"\n",
        "    print(asterisco)\n",
        "\n",
        "\n",
        "piramide_asteriscos(12)\n"
      ],
      "metadata": {
        "colab": {
          "base_uri": "https://localhost:8080/"
        },
        "id": "lKlZ67KRkXwn",
        "outputId": "1cdeb750-fbc2-4470-a169-338f72f9ea9f"
      },
      "execution_count": null,
      "outputs": [
        {
          "output_type": "stream",
          "name": "stdout",
          "text": [
            " * \n",
            " *  * \n",
            " *  *  * \n",
            " *  *  *  * \n",
            " *  *  *  *  * \n",
            " *  *  *  *  *  * \n",
            " *  *  *  *  *  *  * \n",
            " *  *  *  *  *  *  *  * \n",
            " *  *  *  *  *  *  *  *  * \n",
            " *  *  *  *  *  *  *  *  *  * \n",
            " *  *  *  *  *  *  *  *  *  *  * \n",
            " *  *  *  *  *  *  *  *  *  *  *  * \n"
          ]
        }
      ]
    },
    {
      "cell_type": "markdown",
      "source": [
        "#**Ejercicio 9**:\n",
        "\n",
        "Escriba una función que calcule el factorial de un número, el cual debe ser ingresado por el usuario, después usted debe validar que sea un número natural mayor o igual a cero y en caso de que ingrese un número negativo, una letra o cadena, debe pedir nuevamente el número al usuario."
      ],
      "metadata": {
        "id": "xL6YMsdClOy9"
      }
    },
    {
      "cell_type": "code",
      "source": [
        "def Factorial(número):\n",
        "  factorial=1\n",
        "  for i in range(1,número+1):\n",
        "    factorial=factorial*i\n",
        "  return(print(factorial))\n",
        "Factorial(int(input(\"Escriba un número natural \")))"
      ],
      "metadata": {
        "colab": {
          "base_uri": "https://localhost:8080/"
        },
        "id": "yyKtT4u0iQ9r",
        "outputId": "14c24370-9d9a-4cb3-ce7f-e6680c092c54"
      },
      "execution_count": null,
      "outputs": [
        {
          "output_type": "stream",
          "name": "stdout",
          "text": [
            "Escriba un número natural 1\n",
            "1\n"
          ]
        }
      ]
    },
    {
      "cell_type": "markdown",
      "source": [
        "#**Ejercicio 10**:\n",
        "Programar una función que calcule la distancia entre dos puntos en el plano cartesiano,\n",
        "dadas sus coordenadas (x1, y1) y (x2, y2)."
      ],
      "metadata": {
        "id": "8z6e_aduTxWh"
      }
    },
    {
      "cell_type": "code",
      "source": [
        "import numpy as np\n",
        "\n",
        "punto1=(3,6)\n",
        "punto2=(2,5)\n",
        "def dist_puntos(punto1,punto2):\n",
        "  x1,y1=punto1\n",
        "  x2,y2=punto2\n",
        "  distancia_p= round(np.sqrt((x1+x2)**2 + (y1+y2)**2),3)\n",
        "  return(print(\"La distancia entre los puntos es \",distancia_p ))\n",
        "dist_puntos(punto1,punto2)"
      ],
      "metadata": {
        "id": "rKes7ySm8LJy",
        "colab": {
          "base_uri": "https://localhost:8080/"
        },
        "outputId": "28fdbfdd-9fa0-422a-e818-8b6720a800ca"
      },
      "execution_count": null,
      "outputs": [
        {
          "output_type": "stream",
          "name": "stdout",
          "text": [
            "La distancia entre los puntos es  12.083\n"
          ]
        }
      ]
    },
    {
      "cell_type": "markdown",
      "source": [
        "#**Ejercicio 11**:\n",
        "Programe un script que determine si dos rectas dadas por las ecuaciones y1=m1x + b1 y y2=m2x+b2 se\n",
        "intersectan, son paralelas o coincidentes. Utilice estructuras de control (IF - ELSE)\n",
        "para manejar los diferentes casos.\n"
      ],
      "metadata": {
        "id": "YZ1CmeGNUfd6"
      }
    },
    {
      "cell_type": "code",
      "source": [
        "b_2=7\n",
        "m_2=1\n",
        "m_1=12\n",
        "b_1=1\n",
        "\n",
        "recta_1=str(m_1)+\"x\"+\"+\"+str(b_1)\n",
        "recta_2=str(m_2)+\"x\"+\"+\"+str(+b_2)\n",
        "if m_2==m_1 and b_1==b_2:\n",
        "  print(\"Las rectas\",recta_1,\"y\",recta_2, \"son coincidentes\")\n",
        "elif m_2==m_1 and b_1!=b_2:\n",
        "  print(\"Las rectas\",recta_1,\"y\",recta_2, \"son paralelas\")\n",
        "else:\n",
        "  print(\"Las rectas\",recta_1,\"y\",recta_2, \"se intersectan\")"
      ],
      "metadata": {
        "id": "oTNVz98W8LuZ",
        "colab": {
          "base_uri": "https://localhost:8080/"
        },
        "outputId": "dce3e7d0-6385-45f4-c367-0ed1efa14119"
      },
      "execution_count": 12,
      "outputs": [
        {
          "output_type": "stream",
          "name": "stdout",
          "text": [
            "Las rectas 12x+1 y 1x+7 se intersectan\n"
          ]
        }
      ]
    },
    {
      "cell_type": "markdown",
      "source": [
        "#**Ejercicio 12**:\n",
        "Iván y Miguel quieren jugar a los dados con las siguientes reglas:\n",
        "\n",
        "    Si sale 1, vuelven a lanzar.\n",
        "    Si sale 6, quedan empatados.\n",
        "    Si sale 2 ó 3 gana Iván.\n",
        "    Si sale 4 ó 5 gana Miguel.\n",
        "\n",
        "Haga un programa que le permita jugar a Iván y Miguel utilizando el condicional while. Se debe imprimir el mensaje de acuerdo a las reglas establecidas.\n",
        "**Hint** = Utilice la librería random para generar los números aleatorios."
      ],
      "metadata": {
        "id": "qdHirPx6I2ib"
      }
    },
    {
      "cell_type": "code",
      "source": [
        "import random as rd\n",
        "lanzamiento_1=rd.randrange(1,7,1)\n",
        "\n",
        "if lanzamiento_1==1:\n",
        "  print(\"salió\",lanzamiento_1)\n",
        "  lanzamiento_1 = rd.randrange(1,7,1)\n",
        "if lanzamiento_1!= 1:\n",
        "  dado = lanzamiento_1\n",
        "\n",
        "if dado == 6:\n",
        "  print(\"salió\",dado)\n",
        "  print(\"Mmiguel e Iván empataron\")\n",
        "elif dado== (5 or 4):\n",
        "  print(\"salió\",dado)\n",
        "  print(\"Ganó Miguel\")\n",
        "elif dado ==(2 or 3):\n",
        "  print(\"salió\",dado)\n",
        "  print(\"Ganó iván\")"
      ],
      "metadata": {
        "id": "dDHP_-CG8Nqg",
        "colab": {
          "base_uri": "https://localhost:8080/"
        },
        "outputId": "ce736cf4-10d4-4c64-b344-d0a72157aafa"
      },
      "execution_count": 333,
      "outputs": [
        {
          "output_type": "stream",
          "name": "stdout",
          "text": [
            "salió 1\n",
            "salió 2\n",
            "Ganó iván\n"
          ]
        }
      ]
    }
  ]
}