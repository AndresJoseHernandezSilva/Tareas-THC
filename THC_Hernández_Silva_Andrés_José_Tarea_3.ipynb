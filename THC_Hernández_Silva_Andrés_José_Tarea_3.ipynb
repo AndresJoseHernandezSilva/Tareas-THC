{
  "nbformat": 4,
  "nbformat_minor": 0,
  "metadata": {
    "colab": {
      "provenance": [],
      "authorship_tag": "ABX9TyOuT7tMneeo5Zf1hZ5/CFbq",
      "include_colab_link": true
    },
    "kernelspec": {
      "name": "python3",
      "display_name": "Python 3"
    },
    "language_info": {
      "name": "python"
    }
  },
  "cells": [
    {
      "cell_type": "markdown",
      "metadata": {
        "id": "view-in-github",
        "colab_type": "text"
      },
      "source": [
        "<a href=\"https://colab.research.google.com/github/AndresJoseHernandezSilva/Tareas-THC/blob/main/THC_Hern%C3%A1ndez_Silva_Andr%C3%A9s_Jos%C3%A9_Tarea_3.ipynb\" target=\"_parent\"><img src=\"https://colab.research.google.com/assets/colab-badge.svg\" alt=\"Open In Colab\"/></a>"
      ]
    },
    {
      "cell_type": "code",
      "execution_count": 17,
      "metadata": {
        "colab": {
          "base_uri": "https://localhost:8080/"
        },
        "id": "1Qv5IfpEqcPL",
        "outputId": "ed331ce0-20f7-4048-c156-e1c1533e8b58"
      },
      "outputs": [
        {
          "output_type": "stream",
          "name": "stdout",
          "text": [
            "Escriba un número 77\n",
            "Escriba su otro número 9\n",
            "Escriba la operación que quiera realizar en Mayúsculas y con acentos DIVISIÓN\n",
            "8.555555555555555\n"
          ]
        }
      ],
      "source": [
        "#Ejercicio 1 variables Calculadora\n",
        "Primer_número= float(input(\"Escriba un número \"))\n",
        "Segundo_número = float(input(\"Escriba su otro número \"))\n",
        "\n",
        "Operación = input(\"Escriba la operación que quiera realizar en Mayúsculas y con acentos \")\n",
        "Suma= Primer_número + Segundo_número\n",
        "Resta=Primer_número - Segundo_número\n",
        "División=Primer_número / Segundo_número\n",
        "Producto= Primer_número*Segundo_número\n",
        "Potencia= Primer_número**Segundo_número\n",
        "Modulo=Primer_número%Segundo_número\n",
        "if Operación == \"SUMA\":\n",
        "   print(Suma)\n",
        "elif Operación == \"RESTA\":\n",
        "   print(Resta)\n",
        "elif  Operación == \"DIVISIÓN\":\n",
        "   print(División)\n",
        "elif Operación == \"PRODUCTO\" or \"MULTIPLICACIÓN\":\n",
        "   print(Producto)\n",
        "elif  Operación == \"POTENCIA\":\n",
        "   print(Potencia)\n",
        "elif  Operación == \"MODÚLO\":\n",
        "   print(Modulo)\n",
        "else:\n",
        "  print(\"la operación no es válida\")"
      ]
    },
    {
      "cell_type": "code",
      "source": [
        "#Ejercicio 2 Variables; conversión de temperatura\n",
        "\n",
        "grados_celcius=float(input(\"Ponga la temperatura en grados celcius \"))\n",
        "\n",
        "grados_farenheit= ((9/5)*grados_celcius) + 32\n",
        "print(\"Su temperatura en grados Farenheit es \", grados_farenheit)"
      ],
      "metadata": {
        "colab": {
          "base_uri": "https://localhost:8080/"
        },
        "id": "7w2ZzH41-2Y3",
        "outputId": "09f7eca7-9661-4c17-c1f4-9580f981a869"
      },
      "execution_count": null,
      "outputs": [
        {
          "output_type": "stream",
          "name": "stdout",
          "text": [
            "Ponga la temperatura en grados celcius 1\n",
            "Su temperatura en grados celcius es  33.8\n"
          ]
        }
      ]
    },
    {
      "cell_type": "code",
      "source": [
        "#Ejercicio 4 variables; contador de palabras\n",
        "\n",
        "oración = str(input(\"ingrese una oración \"))\n",
        "print(oración)\n",
        "palabras = oración.split()\n",
        "\n",
        "longitud_cadena= len(palabras)\n",
        "print(\"La oración tiene \", longitud_cadena, \"palabras\")"
      ],
      "metadata": {
        "colab": {
          "base_uri": "https://localhost:8080/"
        },
        "id": "XlilcWlvALpt",
        "outputId": "48b08700-3bda-4c8e-cafd-645dfcec3ae2"
      },
      "execution_count": null,
      "outputs": [
        {
          "output_type": "stream",
          "name": "stdout",
          "text": [
            "ingrese una oración Yo vivo en Atizapán\n",
            "Yo vivo en Atizapán\n",
            "La oración tiene  4 palabras\n"
          ]
        }
      ]
    },
    {
      "cell_type": "code",
      "source": [
        "#Ejercicio 6 calculo promedio\n",
        "\n",
        "valores = []\n",
        "while True:\n",
        "  valor= float(input(\"Vaya igresando los números a promediar, para terminar ingrese el cero \"))\n",
        "  if valor == 0:\n",
        "    break\n",
        "  else:\n",
        "    valores.append(valor)\n",
        "\n",
        "print(valores)\n",
        "suma_val= 0\n",
        "for valorx in valores:\n",
        "  suma_val= valorx + suma_val\n",
        "#print(suma_val)\n",
        "#print(len(valores))\n",
        "\n",
        "\n",
        "promedio = suma_val/len(valores)\n",
        "print(\"El promedio es \", promedio)"
      ],
      "metadata": {
        "colab": {
          "base_uri": "https://localhost:8080/"
        },
        "id": "js29dVXbVQJG",
        "outputId": "884d4302-ee27-4a55-fb86-ddaec97743f6"
      },
      "execution_count": null,
      "outputs": [
        {
          "output_type": "stream",
          "name": "stdout",
          "text": [
            "Vaya igresando los números a promediar, para terminar ingrese el cero 67\n",
            "Vaya igresando los números a promediar, para terminar ingrese el cero 2.5\n",
            "Vaya igresando los números a promediar, para terminar ingrese el cero 50.7\n",
            "Vaya igresando los números a promediar, para terminar ingrese el cero 43.9\n",
            "Vaya igresando los números a promediar, para terminar ingrese el cero 0\n",
            "[67.0, 2.5, 50.7, 43.9]\n",
            "El promedio es  41.025\n"
          ]
        }
      ]
    },
    {
      "cell_type": "code",
      "source": [],
      "metadata": {
        "id": "5GwZRuzdZt1a"
      },
      "execution_count": null,
      "outputs": []
    },
    {
      "cell_type": "code",
      "source": [
        "#Ejercicio 10, Variables, regsitro de estudiantes\n",
        "\n",
        "alumnos_cal={\"Carlos\":10, \"María\":9, \"Álvaro\":7 }\n",
        "def agregar_alumno():\n",
        "  alumnos_cal[input(\"Escriba el estudiante a agregar \")]= int(input(\"Escriba su calificación \"))\n",
        "\n",
        "while Otro_estudiante== \"Si\" or \"Sí\" or \"si\" or \"sí\":\n",
        "  Otro_estudiante=input(\"¿Desea agregar otro estudiante? escriba si o no \")\n",
        "  if Otro_estudiante==\"no\" or \"NO\" :\n",
        "    break\n",
        "  agregar_alumno()\n",
        "\n",
        "print(alumnos_cal)\n",
        "\n",
        "calificaciones=list(alumnos_cal.values())\n",
        "print(calificaciones)\n",
        "suma=0\n",
        "for calificación in calificaciones:\n",
        "  suma= suma + calificación\n",
        "\n",
        "promedio= suma / len(calificaciones)\n",
        "print(promedio)"
      ],
      "metadata": {
        "colab": {
          "base_uri": "https://localhost:8080/"
        },
        "id": "kJWw2KTzQn_F",
        "outputId": "56ce3f4a-74ce-4d29-ac05-71ee6dc04137"
      },
      "execution_count": null,
      "outputs": [
        {
          "output_type": "stream",
          "name": "stdout",
          "text": [
            "¿Desea agregar otro estudiante? escriba si o no no\n",
            "{'Carlos': 10, 'María': 9, 'Álvaro': 7}\n",
            "[10, 9, 7]\n",
            "8.666666666666666\n"
          ]
        }
      ]
    },
    {
      "cell_type": "code",
      "source": [
        "#Ejercicio 2 Sintaxis, comentarios, tipos de datos\n",
        "\n",
        "#Calcular el área de un triángulo\n",
        "\n",
        "\"\"\"ponemos nuestras variables que necesitamos para el calcular el área,\n",
        "la base y la altura\"\"\"\n",
        "Base_triangulo = 5\n",
        "Altura_triangulo = 11\n",
        "\"\"\" Se le pide a python que haga la operación para el área de un triángulo\n",
        "(Base por altura sobre 2), usando las variables ya definidas: Base_triangulo, y\n",
        "Altura_triangulo\"\"\"\n",
        "area_triangulo= (Base_triangulo*Altura_triangulo)/2\n",
        "print(area_triangulo)"
      ],
      "metadata": {
        "colab": {
          "base_uri": "https://localhost:8080/"
        },
        "id": "tDA3_hjt0zGg",
        "outputId": "0557a664-a4c4-473b-f882-685ff466782a"
      },
      "execution_count": null,
      "outputs": [
        {
          "output_type": "stream",
          "name": "stdout",
          "text": [
            "27.5\n"
          ]
        }
      ]
    },
    {
      "cell_type": "code",
      "source": [
        "#Ejercicio 3 Sintaxis, comentarios, tipos de datos\n",
        "\n",
        "\"\"\"Encontrar si un número tiene como factores primos a alguno de los primeros 6 primos\n",
        "(2,3,5,7,11,13)\"\"\"\n",
        "\"\"\"Aquí le pido al usuario que ingrese un número con el input(), y con el int()\n",
        "convierto ese input que es un string a un entero\"\"\"\n",
        "Número= int(input(\"Ingrese un número natural \"))\n",
        "\"\"\"Primero le pido que evalué el módulo del Número con respecto al primer número\n",
        "primo el 2, si la sentencia es verdadera osease 2 es factor primo de el Número\n",
        "le indico que imprima que 2 es factor primo de nuestro Número, y así con respecto\n",
        "al 3, 5, 7, 11, y 13\"\"\"\n",
        "\"\"\"para cada factor primo, uso if ya que quiero que me indique todos los factores\n",
        "primos del número, si pusiera elif, se dentendria con el primero de los 6\n",
        "factores primos, que cumpla que su módulo sea igual a 0\"\"\"\n",
        "\n",
        "\n",
        "if Número%2==0:\n",
        "  print(\"El 2 es factor primo de\", Número)\n",
        "if Número%3 ==0:\n",
        "    print(\"El 3 es factor primo de \", Número)\n",
        "if Número%5 ==0:\n",
        "    print(\"El 5 es factor primo de \", Número)\n",
        "if Número%7 ==0:\n",
        "    print(\"El 7 es factor primo de \", Número)\n",
        "if Número%11 ==0:\n",
        "    print(\"El 11 es factor primo de \", Número)\n",
        "if Número%13 ==0:\n",
        "    print(\"El 13 es factor primo de \", Número)\n",
        "\"\"\"Si llegase a pasar que el número no es factor primo de los primeros 6 primos quiere\n",
        "decir que su módulo es distinto de 0 lo cual, pido que evalue este último if, y con el\n",
        "and le indico que no se cumpla con ninguno de los primeros 6 números primos\"\"\"\n",
        "if Número%2 != 0 and Número%3 !=0 and Número%5 !=0 and Número%7 !=0 and Número%11 !=0 and Número%13 !=0:\n",
        "   print(\"El número\", Número, \"no tiene de factor primo al 13,11, 7, 5, 3, o, 2\")\n",
        "\n",
        "\n"
      ],
      "metadata": {
        "colab": {
          "base_uri": "https://localhost:8080/"
        },
        "id": "rRm26eqf8Z0N",
        "outputId": "e28db696-7c54-4781-cae9-dba509a26b93"
      },
      "execution_count": null,
      "outputs": [
        {
          "output_type": "stream",
          "name": "stdout",
          "text": [
            "Ingrese un número natural 64\n",
            "El 2 es factor primo de 64\n"
          ]
        }
      ]
    },
    {
      "cell_type": "code",
      "source": [
        "#Ejercicio 6, sintaxis, comentarios y tipos de datos\n",
        "\n",
        "\"\"\"Este programa lo diseñe para que una persona fuera ingresando elemntos cualesquiera\n",
        "a 2 conjuntos(conjunto_1 y conjunto_2), el usuario iria agregando 1 por 1,\n",
        "y al colocar la palabra no en Máyusculas,\n",
        "se detiene la adicion de elementos a los conjuntos; después de que se hayan agregado los\n",
        "elementos deseados a los conjuntos se le pregunta al usuario que operación quiere\n",
        "realizar , intersección o union, si escribe union, se devuelve la union de los conjuntos\n",
        "que creo con anterioridad; si escribe interseccion, se devuelve la inetersección entre los\n",
        "conjuntos que escribio con anterioridad. Si en dado caso escribiera al go distinto en\n",
        "que operación quiere, se devuelve esa operación no es válida\"\"\"\n",
        "conjunto_1= set()\n",
        "conjunto_2= set()\n",
        "while True:\n",
        "  nuevo_elemento= input(\"Vaya igresando elementos del conjunto 1, para terminar ingrese el NO \")\n",
        "  if nuevo_elemento == \"NO\":\n",
        "    break\n",
        "  else:\n",
        "    conjunto_1.add(nuevo_elemento)\n",
        "print(conjunto_1)\n",
        "\n",
        "while True:\n",
        "  nuevo_elemento= input(\"Vaya igresando elementos del conjunto 2, para terminar ingrese el NO \")\n",
        "  if nuevo_elemento == \"NO\":\n",
        "    break\n",
        "  else:\n",
        "    conjunto_2.add(nuevo_elemento)\n",
        "print(conjunto_2)\n",
        "\n",
        "OP=str(input(\"¿Qué operación quiere hacer con sus conjuntos, Intersección o Unión?\"))\n",
        "union= conjunto_1|conjunto_2\n",
        "inter= conjunto_1 & conjunto_2\n",
        "\n",
        "if OP.lower() == (\"unión\"or\"union\"):\n",
        "  print(union)\n",
        "\n",
        "elif OP.lower()== \"interseccion\" or \"intersección\":\n",
        "  print(inter)\n",
        "else:\n",
        "  print(\"No es válida la operación\")"
      ],
      "metadata": {
        "colab": {
          "base_uri": "https://localhost:8080/"
        },
        "id": "pmOIW9M0bwKB",
        "outputId": "d8c01674-926f-42b4-90ee-83f6caa49aa4"
      },
      "execution_count": 21,
      "outputs": [
        {
          "output_type": "stream",
          "name": "stdout",
          "text": [
            "Vaya igresando elementos del conjunto 1, para terminar ingrese el NO 9\n",
            "Vaya igresando elementos del conjunto 1, para terminar ingrese el NO 0\n",
            "Vaya igresando elementos del conjunto 1, para terminar ingrese el NO 99\n",
            "Vaya igresando elementos del conjunto 1, para terminar ingrese el NO 8\n",
            "Vaya igresando elementos del conjunto 1, para terminar ingrese el NO NO\n",
            "{'9', '99', '0', '8'}\n",
            "Vaya igresando elementos del conjunto 2, para terminar ingrese el NO 99\n",
            "Vaya igresando elementos del conjunto 2, para terminar ingrese el NO 0\n",
            "Vaya igresando elementos del conjunto 2, para terminar ingrese el NO NO\n",
            "{'99', '0'}\n",
            "¿Qué operación quiere hacer con sus conjuntos, Intersección o Unión?INTERSECCION\n",
            "{'99', '0'}\n"
          ]
        }
      ]
    }
  ]
}